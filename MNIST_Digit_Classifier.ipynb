{
  "cells": [
    {
      "cell_type": "code",
      "execution_count": 1,
      "id": "c09b1b83",
      "metadata": {
        "id": "c09b1b83"
      },
      "outputs": [],
      "source": [
        "# Title: MNIST Digit Classifier (ANN)\n",
      ]
    },
    {
      "cell_type": "markdown",
      "id": "9cd2964d",
      "metadata": {
        "id": "9cd2964d"
      },
      "source": [
        "# Project Submission\n",
        "\n",
        "## S.No: 5\n",
        "\n",
        "### Project Title\n",
        "**MNIST Digit Classifier**\n",
        "\n",
        "### Description\n",
        "This project focuses on building a neural network model to classify handwritten digits (0–9) from the **MNIST dataset**, which contains 60,000 training images and 10,000 testing images of grayscale digits.  \n",
        "\n",
        "### Key Concepts\n",
        "- Artificial Neural Network (ANN)  \n",
        "- Softmax Activation Function  \n",
        "- Backpropagation  \n",
        "\n",
        "### Tools/Frameworks\n",
        "- Keras  \n",
        "- TensorFlow  \n"
      ]
    },
    {
      "cell_type": "markdown",
      "id": "d01eb432",
      "metadata": {
        "id": "d01eb432"
      },
      "source": [
        "# Step 1: Import Libraries"
      ]
    },
    {
      "cell_type": "code",
      "execution_count": 2,
      "id": "661d8389",
      "metadata": {
        "id": "661d8389"
      },
      "outputs": [],
      "source": [
        "import tensorflow as tf\n",
        "from tensorflow import keras\n",
        "import matplotlib.pyplot as plt\n",
        "import numpy as np"
      ]
    },
    {
      "cell_type": "markdown",
      "id": "634c941e",
      "metadata": {
        "id": "634c941e"
      },
      "source": [
        "# Step 2: Load MNIST Dataset"
      ]
    },
    {
      "cell_type": "code",
      "execution_count": 3,
      "id": "50ccc07f",
      "metadata": {
        "colab": {
          "base_uri": "https://localhost:8080/"
        },
        "id": "50ccc07f",
        "outputId": "e19eeb0c-9769-4fb3-abed-88e3cbbb0d01"
      },
      "outputs": [
        {
          "output_type": "stream",
          "name": "stdout",
          "text": [
            "Downloading data from https://storage.googleapis.com/tensorflow/tf-keras-datasets/mnist.npz\n",
            "\u001b[1m11490434/11490434\u001b[0m \u001b[32m━━━━━━━━━━━━━━━━━━━━\u001b[0m\u001b[37m\u001b[0m \u001b[1m0s\u001b[0m 0us/step\n",
            "Training data shape: (60000, 28, 28)\n",
            "Testing data shape: (10000, 28, 28)\n"
          ]
        }
      ],
      "source": [
        "(x_train, y_train), (x_test, y_test) = keras.datasets.mnist.load_data()\n",
        "\n",
        "# Normalize data\n",
        "x_train = x_train / 255.0\n",
        "x_test = x_test / 255.0\n",
        "\n",
        "print(\"Training data shape:\", x_train.shape)\n",
        "print(\"Testing data shape:\", x_test.shape)"
      ]
    },
    {
      "cell_type": "markdown",
      "id": "b3e3504b",
      "metadata": {
        "id": "b3e3504b"
      },
      "source": [
        "# Step 3: Build ANN Model"
      ]
    },
    {
      "cell_type": "code",
      "execution_count": 4,
      "id": "6ca3892b",
      "metadata": {
        "colab": {
          "base_uri": "https://localhost:8080/"
        },
        "id": "6ca3892b",
        "outputId": "5319d907-d8aa-4139-9568-dddfdb648010"
      },
      "outputs": [
        {
          "output_type": "stream",
          "name": "stderr",
          "text": [
            "/usr/local/lib/python3.12/dist-packages/keras/src/layers/reshaping/flatten.py:37: UserWarning: Do not pass an `input_shape`/`input_dim` argument to a layer. When using Sequential models, prefer using an `Input(shape)` object as the first layer in the model instead.\n",
            "  super().__init__(**kwargs)\n"
          ]
        }
      ],
      "source": [
        "model = keras.Sequential([\n",
        "    keras.layers.Flatten(input_shape=(28, 28)),\n",
        "    keras.layers.Dense(128, activation='relu'),\n",
        "    keras.layers.Dense(10, activation='softmax')\n",
        "])\n",
        "\n",
        "model.compile(optimizer='adam',\n",
        "              loss='sparse_categorical_crossentropy',\n",
        "              metrics=['accuracy'])"
      ]
    },
    {
      "cell_type": "markdown",
      "id": "7b6307ce",
      "metadata": {
        "id": "7b6307ce"
      },
      "source": [
        "# Step 4: Train the Model"
      ]
    },
    {
      "cell_type": "code",
      "execution_count": 5,
      "id": "d43868d0",
      "metadata": {
        "colab": {
          "base_uri": "https://localhost:8080/"
        },
        "id": "d43868d0",
        "outputId": "bbbe0b1b-2524-414f-e531-0b0fd200d1af"
      },
      "outputs": [
        {
          "output_type": "stream",
          "name": "stdout",
          "text": [
            "Epoch 1/5\n",
            "\u001b[1m1688/1688\u001b[0m \u001b[32m━━━━━━━━━━━━━━━━━━━━\u001b[0m\u001b[37m\u001b[0m \u001b[1m9s\u001b[0m 4ms/step - accuracy: 0.8712 - loss: 0.4574 - val_accuracy: 0.9665 - val_loss: 0.1206\n",
            "Epoch 2/5\n",
            "\u001b[1m1688/1688\u001b[0m \u001b[32m━━━━━━━━━━━━━━━━━━━━\u001b[0m\u001b[37m\u001b[0m \u001b[1m7s\u001b[0m 4ms/step - accuracy: 0.9618 - loss: 0.1303 - val_accuracy: 0.9722 - val_loss: 0.0956\n",
            "Epoch 3/5\n",
            "\u001b[1m1688/1688\u001b[0m \u001b[32m━━━━━━━━━━━━━━━━━━━━\u001b[0m\u001b[37m\u001b[0m \u001b[1m9s\u001b[0m 4ms/step - accuracy: 0.9748 - loss: 0.0842 - val_accuracy: 0.9793 - val_loss: 0.0821\n",
            "Epoch 4/5\n",
            "\u001b[1m1688/1688\u001b[0m \u001b[32m━━━━━━━━━━━━━━━━━━━━\u001b[0m\u001b[37m\u001b[0m \u001b[1m7s\u001b[0m 4ms/step - accuracy: 0.9814 - loss: 0.0612 - val_accuracy: 0.9747 - val_loss: 0.0790\n",
            "Epoch 5/5\n",
            "\u001b[1m1688/1688\u001b[0m \u001b[32m━━━━━━━━━━━━━━━━━━━━\u001b[0m\u001b[37m\u001b[0m \u001b[1m6s\u001b[0m 4ms/step - accuracy: 0.9863 - loss: 0.0484 - val_accuracy: 0.9773 - val_loss: 0.0813\n"
          ]
        }
      ],
      "source": [
        "history = model.fit(x_train, y_train, epochs=5, validation_split=0.1)"
      ]
    },
    {
      "cell_type": "markdown",
      "id": "0f81a4e4",
      "metadata": {
        "id": "0f81a4e4"
      },
      "source": [
        "# Step 5: Evaluate the Model"
      ]
    },
    {
      "cell_type": "code",
      "execution_count": 6,
      "id": "2b03e2fe",
      "metadata": {
        "colab": {
          "base_uri": "https://localhost:8080/"
        },
        "id": "2b03e2fe",
        "outputId": "6c9fa89d-6e9e-47e3-8ca5-ea2b054f17c9"
      },
      "outputs": [
        {
          "output_type": "stream",
          "name": "stdout",
          "text": [
            "\u001b[1m313/313\u001b[0m \u001b[32m━━━━━━━━━━━━━━━━━━━━\u001b[0m\u001b[37m\u001b[0m \u001b[1m1s\u001b[0m 3ms/step - accuracy: 0.9710 - loss: 0.0989\n",
            "Test Accuracy: 0.9746999740600586\n"
          ]
        }
      ],
      "source": [
        "test_loss, test_acc = model.evaluate(x_test, y_test)\n",
        "print(\"Test Accuracy:\", test_acc)"
      ]
    },
    {
      "cell_type": "markdown",
      "id": "36e3f775",
      "metadata": {
        "id": "36e3f775"
      },
      "source": [
        "# Step 6: Prediction Example"
      ]
    },
    {
      "cell_type": "code",
      "execution_count": 7,
      "id": "3119bf55",
      "metadata": {
        "colab": {
          "base_uri": "https://localhost:8080/",
          "height": 469
        },
        "id": "3119bf55",
        "outputId": "1d0da878-7ce2-4a8f-c498-7b7633057ee3"
      },
      "outputs": [
        {
          "output_type": "stream",
          "name": "stdout",
          "text": [
            "\u001b[1m313/313\u001b[0m \u001b[32m━━━━━━━━━━━━━━━━━━━━\u001b[0m\u001b[37m\u001b[0m \u001b[1m1s\u001b[0m 2ms/step\n"
          ]
        },
        {
          "output_type": "display_data",
          "data": {
            "text/plain": [
              "<Figure size 640x480 with 1 Axes>"
            ],
            "image/png": "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\n"
          },
          "metadata": {}
        }
      ],
      "source": [
        "predictions = model.predict(x_test)\n",
        "\n",
        "plt.imshow(x_test[0], cmap='gray')\n",
        "plt.title(f\"Predicted: {np.argmax(predictions[0])}, Actual: {y_test[0]}\")\n",
        "plt.show()"
      ]
    },
    {
      "cell_type": "markdown",
      "id": "84ed7717",
      "metadata": {
        "id": "84ed7717"
      },
      "source": [
        "# Conclusion\n",
        "The MNIST digit classifier successfully classifies handwritten digits using an **Artificial Neural Network (ANN)** with **TensorFlow & Keras**.  \n",
        "\n",
        "- Achieved accuracy: ~97% (may vary slightly).  \n",
        "- Demonstrated concepts: ANN, softmax, and backpropagation.  \n"
      ]
    }
  ],
  "metadata": {
    "colab": {
      "provenance": []
    },
    "language_info": {
      "name": "python"
    },
    "kernelspec": {
      "name": "python3",
      "display_name": "Python 3"
    }
  },
  "nbformat": 4,
  "nbformat_minor": 5
}
